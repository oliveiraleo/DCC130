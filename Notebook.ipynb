{
 "cells": [
  {
   "cell_type": "markdown",
   "metadata": {},
   "source": [
    "# Desempenho de algoritmos de classificação na detecção de intrusão em redes de dispositivos IoT"
   ]
  },
  {
   "cell_type": "markdown",
   "metadata": {},
   "source": [
    "## Importações"
   ]
  },
  {
   "cell_type": "code",
   "execution_count": null,
   "metadata": {},
   "outputs": [],
   "source": [
    "import glob\n",
    "import time\n",
    "from dataclasses import dataclass\n",
    "from pathlib import Path\n",
    "\n",
    "import numpy as np\n",
    "import polars as pl\n",
    "from imblearn.over_sampling import RandomOverSampler\n",
    "from imblearn.under_sampling import RandomUnderSampler\n",
    "from sklearn.ensemble import AdaBoostClassifier, RandomForestClassifier\n",
    "from sklearn.linear_model import LogisticRegression, Perceptron\n",
    "from sklearn.metrics import (\n",
    "    accuracy_score,\n",
    "    f1_score,\n",
    "    precision_score,\n",
    "    recall_score,\n",
    ")\n",
    "from sklearn.model_selection import train_test_split\n",
    "from sklearn.preprocessing import StandardScaler"
   ]
  },
  {
   "cell_type": "markdown",
   "metadata": {},
   "source": [
    "## Variáveis globais"
   ]
  },
  {
   "cell_type": "code",
   "execution_count": null,
   "metadata": {},
   "outputs": [],
   "source": [
    "DATASET_DIRECTORY = \"./CICIoT2023/\"\n",
    "GENERATE_DATASETS = False\n",
    "EIGHT_CLASSES = True"
   ]
  },
  {
   "cell_type": "markdown",
   "metadata": {},
   "source": [
    "## DTOs"
   ]
  },
  {
   "cell_type": "code",
   "execution_count": null,
   "metadata": {},
   "outputs": [],
   "source": [
    "@dataclass\n",
    "class ModelDataset:\n",
    "    x_train: np.ndarray\n",
    "    y_train: np.ndarray\n",
    "    x_test: pl.DataFrame\n",
    "    y_test: np.ndarray"
   ]
  },
  {
   "cell_type": "code",
   "execution_count": null,
   "metadata": {},
   "outputs": [],
   "source": [
    "@dataclass\n",
    "class Results:\n",
    "    model: str\n",
    "    accuracy_score: float\n",
    "    precision_score: float\n",
    "    recall_score: float\n",
    "    f1_score: float\n",
    "    train_num_rows: int\n",
    "    test_num_rows: int\n",
    "    num_features: int\n",
    "    duration_training: float\n",
    "    duration_testing: float"
   ]
  },
  {
   "cell_type": "markdown",
   "metadata": {},
   "source": [
    "## Funções auxiliares"
   ]
  },
  {
   "cell_type": "code",
   "execution_count": null,
   "metadata": {},
   "outputs": [],
   "source": [
    "def sample_rows(\n",
    "    group_by: pl.dataframe.group_by.GroupBy, percentage: float\n",
    ") -> pl.DataFrame:\n",
    "    dfs = []\n",
    "    for _, df in group_by:\n",
    "        if len(df) * percentage <= 1:\n",
    "            dfs.append(df.sample(n=1))\n",
    "            continue\n",
    "        dfs.append(df.sample(fraction=percentage, seed=42))\n",
    "\n",
    "    return pl.concat(dfs)\n",
    "\n",
    "\n",
    "def generate_dataframe(file_list: list, percentage: float) -> pl.DataFrame:\n",
    "    dfs = []\n",
    "    for file in file_list:\n",
    "        df = pl.read_csv(file)\n",
    "        dfs.append(\n",
    "            sample_rows(\n",
    "                group_by=df.group_by([\"label\"], maintain_order=True),\n",
    "                percentage=percentage,\n",
    "            )\n",
    "        )\n",
    "    return pl.concat(dfs)"
   ]
  },
  {
   "cell_type": "code",
   "execution_count": null,
   "metadata": {},
   "outputs": [],
   "source": [
    "def evaluate_model(model, data: ModelDataset):\n",
    "    start_training = time.time()\n",
    "    model.fit(data.x_train, data.y_train.ravel())\n",
    "    end_training = time.time()\n",
    "\n",
    "    start_testing = time.time()\n",
    "    y_pred = model.predict(data.x_test)\n",
    "    end_testing = time.time()\n",
    "\n",
    "    return Results(\n",
    "        model=type(model).__name__,\n",
    "        accuracy_score=accuracy_score(data.y_test, y_pred),\n",
    "        precision_score=precision_score(data.y_test, y_pred, average=\"macro\"),\n",
    "        recall_score=recall_score(data.y_test, y_pred, average=\"macro\"),\n",
    "        f1_score=f1_score(data.y_test, y_pred, average=\"macro\"),\n",
    "        train_num_rows=len(data.x_train),\n",
    "        test_num_rows=len(data.x_test),\n",
    "        num_features=len(np.unique(data.y_train)),\n",
    "        duration_training=float(f\"{end_training - start_training:.4f}\"),\n",
    "        duration_testing=float(f\"{end_testing - start_testing:.4f}\"),\n",
    "    )"
   ]
  },
  {
   "cell_type": "code",
   "execution_count": null,
   "metadata": {},
   "outputs": [],
   "source": [
    "def save_results(results: Results):\n",
    "    df = pl.DataFrame(vars(results))\n",
    "\n",
    "    file_path = Path(\"./results.csv\")\n",
    "\n",
    "    if file_path.exists():\n",
    "        df_already_exists = pl.read_csv(file_path)\n",
    "        result = pl.concat([df_already_exists, df])\n",
    "        result.write_csv(file_path)\n",
    "    else:\n",
    "        df.write_csv(file_path)"
   ]
  },
  {
   "cell_type": "markdown",
   "metadata": {},
   "source": [
    "# Criando um dataset menor"
   ]
  },
  {
   "cell_type": "code",
   "execution_count": null,
   "metadata": {},
   "outputs": [],
   "source": [
    "data_dir = Path(\"./data/\")\n",
    "data_dir.mkdir(parents=True, exist_ok=True)\n",
    "\n",
    "csv_file_paths = sorted(glob.glob(f\"{DATASET_DIRECTORY}/*.csv\"))"
   ]
  },
  {
   "cell_type": "code",
   "execution_count": null,
   "metadata": {},
   "outputs": [],
   "source": [
    "if GENERATE_DATASETS:\n",
    "    generate_dataframe(file_list=df_sets, percentage=0.005).write_csv(\n",
    "        file=\"./data/dataset_dev.csv\"\n",
    "    )"
   ]
  },
  {
   "cell_type": "code",
   "execution_count": null,
   "metadata": {},
   "outputs": [],
   "source": [
    "if GENERATE_DATASETS:\n",
    "    generate_dataframe(file_list=df_sets, percentage=0.01).write_csv(\n",
    "        file=\"./data/dataset_one_percent.csv\"\n",
    "    )"
   ]
  },
  {
   "cell_type": "markdown",
   "metadata": {},
   "source": [
    "# IDS"
   ]
  },
  {
   "cell_type": "markdown",
   "metadata": {},
   "source": [
    "## Dataset"
   ]
  },
  {
   "cell_type": "code",
   "execution_count": null,
   "metadata": {},
   "outputs": [],
   "source": [
    "df = pl.read_csv(\"./data/dataset_dev.csv\")\n",
    "training_data, test_data = train_test_split(df, test_size=0.2, random_state=42)"
   ]
  },
  {
   "cell_type": "markdown",
   "metadata": {},
   "source": [
    "### Separando Features e Label"
   ]
  },
  {
   "cell_type": "code",
   "execution_count": null,
   "metadata": {},
   "outputs": [],
   "source": [
    "X_columns = df.columns[:-1]\n",
    "y_column = \"label\""
   ]
  },
  {
   "cell_type": "code",
   "execution_count": null,
   "metadata": {},
   "outputs": [],
   "source": [
    "del df"
   ]
  },
  {
   "cell_type": "markdown",
   "metadata": {},
   "source": [
    "### 8 Classes"
   ]
  },
  {
   "cell_type": "code",
   "execution_count": null,
   "metadata": {},
   "outputs": [],
   "source": [
    "if EIGHT_CLASSES:\n",
    "    eight_classes = {}\n",
    "\n",
    "    eight_classes[\"BenignTraffic\"] = \"Benign\"\n",
    "\n",
    "    eight_classes[\"DDoS-RSTFINFlood\"] = \"DDoS\"\n",
    "    eight_classes[\"DDoS-PSHACK_Flood\"] = \"DDoS\"\n",
    "    eight_classes[\"DDoS-SYN_Flood\"] = \"DDoS\"\n",
    "    eight_classes[\"DDoS-UDP_Flood\"] = \"DDoS\"\n",
    "    eight_classes[\"DDoS-TCP_Flood\"] = \"DDoS\"\n",
    "    eight_classes[\"DDoS-ICMP_Flood\"] = \"DDoS\"\n",
    "    eight_classes[\"DDoS-SynonymousIP_Flood\"] = \"DDoS\"\n",
    "    eight_classes[\"DDoS-ACK_Fragmentation\"] = \"DDoS\"\n",
    "    eight_classes[\"DDoS-UDP_Fragmentation\"] = \"DDoS\"\n",
    "    eight_classes[\"DDoS-ICMP_Fragmentation\"] = \"DDoS\"\n",
    "    eight_classes[\"DDoS-SlowLoris\"] = \"DDoS\"\n",
    "    eight_classes[\"DDoS-HTTP_Flood\"] = \"DDoS\"\n",
    "\n",
    "    eight_classes[\"DoS-UDP_Flood\"] = \"DoS\"\n",
    "    eight_classes[\"DoS-SYN_Flood\"] = \"DoS\"\n",
    "    eight_classes[\"DoS-TCP_Flood\"] = \"DoS\"\n",
    "    eight_classes[\"DoS-HTTP_Flood\"] = \"DoS\"\n",
    "\n",
    "    eight_classes[\"Mirai-greeth_flood\"] = \"Mirai\"\n",
    "    eight_classes[\"Mirai-greip_flood\"] = \"Mirai\"\n",
    "    eight_classes[\"Mirai-udpplain\"] = \"Mirai\"\n",
    "\n",
    "    eight_classes[\"Recon-PingSweep\"] = \"Recon\"\n",
    "    eight_classes[\"Recon-OSScan\"] = \"Recon\"\n",
    "    eight_classes[\"Recon-PortScan\"] = \"Recon\"\n",
    "    eight_classes[\"VulnerabilityScan\"] = \"Recon\"\n",
    "    eight_classes[\"Recon-HostDiscovery\"] = \"Recon\"\n",
    "\n",
    "    eight_classes[\"DNS_Spoofing\"] = \"Spoofing\"\n",
    "    eight_classes[\"MITM-ArpSpoofing\"] = \"Spoofing\"\n",
    "\n",
    "    eight_classes[\"BrowserHijacking\"] = \"Web\"\n",
    "    eight_classes[\"Backdoor_Malware\"] = \"Web\"\n",
    "    eight_classes[\"XSS\"] = \"Web\"\n",
    "    eight_classes[\"Uploading_Attack\"] = \"Web\"\n",
    "    eight_classes[\"SqlInjection\"] = \"Web\"\n",
    "    eight_classes[\"CommandInjection\"] = \"Web\"\n",
    "\n",
    "    eight_classes[\"DictionaryBruteForce\"] = \"BruteForce\"\n",
    "\n",
    "    training_data = training_data.with_columns(\n",
    "        pl.col(y_column).replace(eight_classes, default=-1)\n",
    "    )\n",
    "    test_data = test_data.with_columns(\n",
    "        pl.col(y_column).replace(eight_classes, default=-1)\n",
    "    )"
   ]
  },
  {
   "cell_type": "markdown",
   "metadata": {},
   "source": [
    "## Classes"
   ]
  },
  {
   "cell_type": "markdown",
   "metadata": {},
   "source": [
    "### Separando as colunas"
   ]
  },
  {
   "cell_type": "code",
   "execution_count": null,
   "metadata": {},
   "outputs": [],
   "source": [
    "X_train = training_data.select(X_columns)\n",
    "y_train = training_data.select(y_column)\n",
    "X_test = test_data.select(X_columns)\n",
    "y_test = test_data.select(y_column).to_numpy()"
   ]
  },
  {
   "cell_type": "markdown",
   "metadata": {},
   "source": [
    "### Balanceando o dataset"
   ]
  },
  {
   "cell_type": "code",
   "execution_count": null,
   "metadata": {},
   "outputs": [],
   "source": [
    "training_data.group_by(\"label\").len()"
   ]
  },
  {
   "cell_type": "code",
   "execution_count": null,
   "metadata": {},
   "outputs": [],
   "source": [
    "ros = RandomOverSampler(random_state=42)\n",
    "rus = RandomUnderSampler(random_state=42)\n",
    "\n",
    "pd_X_resampled, pd_y_resampled = ros.fit_resample(\n",
    "    X_train.to_pandas(), y_train.to_pandas()\n",
    ")\n",
    "X_resampled, y_resampled = pl.from_pandas(pd_X_resampled), pl.from_pandas(\n",
    "    pd_y_resampled\n",
    ")"
   ]
  },
  {
   "cell_type": "markdown",
   "metadata": {},
   "source": [
    "### Normalizando o dataset"
   ]
  },
  {
   "cell_type": "code",
   "execution_count": null,
   "metadata": {},
   "outputs": [],
   "source": [
    "scaler = StandardScaler()\n",
    "X_train_scaled = scaler.fit_transform(X_resampled)\n",
    "X_test_scaled = scaler.transform(X_test)"
   ]
  },
  {
   "cell_type": "markdown",
   "metadata": {},
   "source": [
    "# Testando os algoritmos"
   ]
  },
  {
   "cell_type": "markdown",
   "metadata": {},
   "source": [
    "## Escopo original\n",
    "Aqui serão executados os algoritmos de classificação Logistic Regression, Perceptron, Adaboost e Random Forest, presentes no trabalho de Neto, E. C. P. *et al.*"
   ]
  },
  {
   "cell_type": "code",
   "execution_count": null,
   "metadata": {},
   "outputs": [],
   "source": [
    "data = ModelDataset(\n",
    "    x_train=X_train_scaled,\n",
    "    y_train=y_resampled.to_numpy(),\n",
    "    x_test=X_test_scaled,\n",
    "    y_test=y_test,\n",
    ")"
   ]
  },
  {
   "cell_type": "markdown",
   "metadata": {},
   "source": [
    "### Logistic Regression"
   ]
  },
  {
   "cell_type": "code",
   "execution_count": null,
   "metadata": {},
   "outputs": [],
   "source": [
    "logistic_regression_results = evaluate_model(\n",
    "    model=LogisticRegression(n_jobs=-1, max_iter=10000), data=data\n",
    ")\n",
    "save_results(logistic_regression_results)"
   ]
  },
  {
   "cell_type": "markdown",
   "metadata": {},
   "source": [
    "### Perceptron"
   ]
  },
  {
   "cell_type": "code",
   "execution_count": null,
   "metadata": {},
   "outputs": [],
   "source": [
    "perceptron_results = evaluate_model(model=Perceptron(), data=data)\n",
    "save_results(perceptron_results)"
   ]
  },
  {
   "cell_type": "markdown",
   "metadata": {},
   "source": [
    "### AdaBoost"
   ]
  },
  {
   "cell_type": "code",
   "execution_count": null,
   "metadata": {},
   "outputs": [],
   "source": [
    "adaboost_results = evaluate_model(model=AdaBoostClassifier(), data=data)\n",
    "save_results(adaboost_results)"
   ]
  },
  {
   "cell_type": "markdown",
   "metadata": {},
   "source": [
    "### Random Forest"
   ]
  },
  {
   "cell_type": "code",
   "execution_count": null,
   "metadata": {},
   "outputs": [],
   "source": [
    "random_forest_results = evaluate_model(\n",
    "    model=RandomForestClassifier(), data=data\n",
    ")\n",
    "save_results(random_forest_results)"
   ]
  },
  {
   "cell_type": "code",
   "execution_count": null,
   "metadata": {},
   "outputs": [],
   "source": []
  }
 ],
 "metadata": {
  "kernelspec": {
   "display_name": "Python 3",
   "language": "python",
   "name": "python3"
  },
  "language_info": {
   "codemirror_mode": {
    "name": "ipython",
    "version": 3
   },
   "file_extension": ".py",
   "mimetype": "text/x-python",
   "name": "python",
   "nbconvert_exporter": "python",
   "pygments_lexer": "ipython3",
   "version": "3.12.2"
  }
 },
 "nbformat": 4,
 "nbformat_minor": 2
}
