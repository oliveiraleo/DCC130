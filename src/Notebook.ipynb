{
 "cells": [
  {
   "cell_type": "markdown",
   "metadata": {},
   "source": [
    "# Desempenho de algoritmos de classificação na detecção de intrusão em redes de dispositivos IoT"
   ]
  },
  {
   "cell_type": "markdown",
   "metadata": {},
   "source": [
    "## Importações"
   ]
  },
  {
   "cell_type": "code",
   "execution_count": 1,
   "metadata": {},
   "outputs": [],
   "source": [
    "import glob\n",
    "import time\n",
    "from dataclasses import dataclass\n",
    "from pathlib import Path\n",
    "\n",
    "import matplotlib.pyplot as plt\n",
    "import numpy as np\n",
    "import pandas as pd\n",
    "import polars as pl\n",
    "import seaborn as sns\n",
    "from imblearn.over_sampling import SMOTE\n",
    "from sklearn.ensemble import AdaBoostClassifier, RandomForestClassifier\n",
    "from sklearn.linear_model import LogisticRegression, Perceptron\n",
    "from sklearn.metrics import (\n",
    "    accuracy_score,\n",
    "    f1_score,\n",
    "    precision_score,\n",
    "    recall_score,\n",
    ")\n",
    "from sklearn.model_selection import train_test_split\n",
    "from sklearn.neural_network import MLPClassifier\n",
    "from sklearn.preprocessing import StandardScaler"
   ]
  },
  {
   "cell_type": "markdown",
   "metadata": {},
   "source": [
    "## Variáveis globais"
   ]
  },
  {
   "cell_type": "code",
   "execution_count": 9,
   "metadata": {},
   "outputs": [],
   "source": [
    "DATASET_DIRECTORY = \"../CICIoT2023/\"\n",
    "GENERATE_DATASETS = False\n",
    "NO_CLASSES = 34\n",
    "DATASET_FILE = \"../data/dataset_five_percent.csv\"\n",
    "RESULTS_FILE = \"../results_five_percent.csv\"\n",
    "FEATURE_SELECTION = False"
   ]
  },
  {
   "cell_type": "code",
   "execution_count": 3,
   "metadata": {},
   "outputs": [],
   "source": [
    "assert NO_CLASSES in [2, 8, 34]"
   ]
  },
  {
   "cell_type": "markdown",
   "metadata": {},
   "source": [
    "## DTOs"
   ]
  },
  {
   "cell_type": "code",
   "execution_count": 4,
   "metadata": {},
   "outputs": [],
   "source": [
    "@dataclass\n",
    "class ModelDataset:\n",
    "    x_train: np.ndarray\n",
    "    y_train: np.ndarray\n",
    "    x_test: pl.DataFrame\n",
    "    y_test: np.ndarray"
   ]
  },
  {
   "cell_type": "code",
   "execution_count": 5,
   "metadata": {},
   "outputs": [],
   "source": [
    "@dataclass\n",
    "class Results:\n",
    "    model: str\n",
    "    accuracy_score: float\n",
    "    precision_score: float\n",
    "    recall_score: float\n",
    "    f1_score: float\n",
    "    train_num_rows: int\n",
    "    test_num_rows: int\n",
    "    num_features: int\n",
    "    duration_training: float\n",
    "    feature_selection: bool"
   ]
  },
  {
   "cell_type": "markdown",
   "metadata": {},
   "source": [
    "## Funções auxiliares"
   ]
  },
  {
   "cell_type": "code",
   "execution_count": 6,
   "metadata": {},
   "outputs": [],
   "source": [
    "def sample_rows(\n",
    "    group_by: pl.dataframe.group_by.GroupBy, percentage: float\n",
    ") -> pl.DataFrame:\n",
    "    dfs = []\n",
    "    for _, df in group_by:\n",
    "        if len(df) * percentage <= 1:\n",
    "            dfs.append(df.sample(n=1))\n",
    "            continue\n",
    "        dfs.append(df.sample(fraction=percentage, seed=42))\n",
    "\n",
    "    return pl.concat(dfs)\n",
    "\n",
    "\n",
    "def generate_dataframe(file_list: list, percentage: float) -> pl.DataFrame:\n",
    "    dfs = []\n",
    "    for file in file_list:\n",
    "        df = pl.read_csv(file)\n",
    "        dfs.append(\n",
    "            sample_rows(\n",
    "                group_by=df.group_by([\"label\"], maintain_order=True),\n",
    "                percentage=percentage,\n",
    "            )\n",
    "        )\n",
    "    return pl.concat(dfs)"
   ]
  },
  {
   "cell_type": "code",
   "execution_count": null,
   "metadata": {},
   "outputs": [],
   "source": [
    "def correlation(dataset: pl.DataFrame, threshold: float) -> list:\n",
    "    col_corr = set()\n",
    "    corr_matrix = dataset.corr()\n",
    "    for i in range(len(corr_matrix.columns)):\n",
    "        for j in range(i):\n",
    "            if abs(corr_matrix[i, j]) > threshold:\n",
    "                col_name = corr_matrix.columns[i]\n",
    "                col_corr.add(col_name)\n",
    "    return list(col_corr)"
   ]
  },
  {
   "cell_type": "code",
   "execution_count": null,
   "metadata": {},
   "outputs": [],
   "source": [
    "def evaluate_model(model, data: ModelDataset):\n",
    "    start_training = time.time()\n",
    "    model.fit(data.x_train, data.y_train.ravel())\n",
    "    end_training = time.time()\n",
    "\n",
    "    y_pred = model.predict(data.x_test)\n",
    "\n",
    "    return Results(\n",
    "        model=type(model).__name__,\n",
    "        accuracy_score=accuracy_score(data.y_test, y_pred),\n",
    "        precision_score=precision_score(data.y_test, y_pred, average=\"macro\"),\n",
    "        recall_score=recall_score(data.y_test, y_pred, average=\"macro\"),\n",
    "        f1_score=f1_score(data.y_test, y_pred, average=\"macro\"),\n",
    "        train_num_rows=len(data.x_train),\n",
    "        test_num_rows=len(data.x_test),\n",
    "        num_features=len(np.unique(data.y_train)),\n",
    "        duration_training=float(f\"{end_training - start_training:.4f}\"),\n",
    "        feature_selection=FEATURE_SELECTION,\n",
    "    )"
   ]
  },
  {
   "cell_type": "code",
   "execution_count": null,
   "metadata": {},
   "outputs": [],
   "source": [
    "def save_results(results: Results):\n",
    "    df = pl.DataFrame(vars(results))\n",
    "\n",
    "    file_path = Path(RESULTS_FILE)\n",
    "\n",
    "    if file_path.exists():\n",
    "        df_already_exists = pl.read_csv(file_path)\n",
    "        result = pl.concat([df_already_exists, df])\n",
    "        result.write_csv(file_path)\n",
    "    else:\n",
    "        df.write_csv(file_path)"
   ]
  },
  {
   "cell_type": "markdown",
   "metadata": {},
   "source": [
    "# Criando um dataset menor"
   ]
  },
  {
   "cell_type": "code",
   "execution_count": 7,
   "metadata": {},
   "outputs": [],
   "source": [
    "data_dir = Path(\"./data/\")\n",
    "data_dir.mkdir(parents=True, exist_ok=True)\n",
    "\n",
    "df_sets = sorted(glob.glob(f\"{DATASET_DIRECTORY}/*.csv\"))"
   ]
  },
  {
   "cell_type": "code",
   "execution_count": null,
   "metadata": {},
   "outputs": [],
   "source": [
    "if GENERATE_DATASETS:\n",
    "    generate_dataframe(file_list=df_sets, percentage=0.005).write_csv(\n",
    "        file=\"./data/dataset_dev.csv\"\n",
    "    )"
   ]
  },
  {
   "cell_type": "code",
   "execution_count": null,
   "metadata": {},
   "outputs": [],
   "source": [
    "if GENERATE_DATASETS:\n",
    "    generate_dataframe(file_list=df_sets, percentage=0.01).write_csv(\n",
    "        file=\"./data/dataset_one_percent.csv\"\n",
    "    )"
   ]
  },
  {
   "cell_type": "code",
   "execution_count": null,
   "metadata": {},
   "outputs": [],
   "source": [
    "if GENERATE_DATASETS:\n",
    "    generate_dataframe(file_list=df_sets, percentage=0.05).write_csv(\n",
    "        file=\"./data/dataset_five_percent.csv\"\n",
    "    )"
   ]
  },
  {
   "cell_type": "markdown",
   "metadata": {},
   "source": [
    "# IDS"
   ]
  },
  {
   "cell_type": "markdown",
   "metadata": {},
   "source": [
    "## Dataset"
   ]
  },
  {
   "cell_type": "code",
   "execution_count": 10,
   "metadata": {},
   "outputs": [],
   "source": [
    "df = pl.read_csv(DATASET_FILE)\n",
    "training_data, test_data = train_test_split(df, test_size=0.2, random_state=42)"
   ]
  },
  {
   "cell_type": "markdown",
   "metadata": {},
   "source": [
    "### Separando Features e Label"
   ]
  },
  {
   "cell_type": "code",
   "execution_count": null,
   "metadata": {},
   "outputs": [],
   "source": [
    "X_columns = df.columns[:-1]\n",
    "y_column = \"label\""
   ]
  },
  {
   "cell_type": "code",
   "execution_count": null,
   "metadata": {},
   "outputs": [],
   "source": [
    "del df"
   ]
  },
  {
   "cell_type": "markdown",
   "metadata": {},
   "source": [
    "### 8 Classes"
   ]
  },
  {
   "cell_type": "code",
   "execution_count": null,
   "metadata": {},
   "outputs": [],
   "source": [
    "if NO_CLASSES == 8:\n",
    "    eight_classes = {}\n",
    "\n",
    "    eight_classes[\"BenignTraffic\"] = \"Benign\"\n",
    "\n",
    "    eight_classes[\"DDoS-RSTFINFlood\"] = \"DDoS\"\n",
    "    eight_classes[\"DDoS-PSHACK_Flood\"] = \"DDoS\"\n",
    "    eight_classes[\"DDoS-SYN_Flood\"] = \"DDoS\"\n",
    "    eight_classes[\"DDoS-UDP_Flood\"] = \"DDoS\"\n",
    "    eight_classes[\"DDoS-TCP_Flood\"] = \"DDoS\"\n",
    "    eight_classes[\"DDoS-ICMP_Flood\"] = \"DDoS\"\n",
    "    eight_classes[\"DDoS-SynonymousIP_Flood\"] = \"DDoS\"\n",
    "    eight_classes[\"DDoS-ACK_Fragmentation\"] = \"DDoS\"\n",
    "    eight_classes[\"DDoS-UDP_Fragmentation\"] = \"DDoS\"\n",
    "    eight_classes[\"DDoS-ICMP_Fragmentation\"] = \"DDoS\"\n",
    "    eight_classes[\"DDoS-SlowLoris\"] = \"DDoS\"\n",
    "    eight_classes[\"DDoS-HTTP_Flood\"] = \"DDoS\"\n",
    "\n",
    "    eight_classes[\"DoS-UDP_Flood\"] = \"DoS\"\n",
    "    eight_classes[\"DoS-SYN_Flood\"] = \"DoS\"\n",
    "    eight_classes[\"DoS-TCP_Flood\"] = \"DoS\"\n",
    "    eight_classes[\"DoS-HTTP_Flood\"] = \"DoS\"\n",
    "\n",
    "    eight_classes[\"Mirai-greeth_flood\"] = \"Mirai\"\n",
    "    eight_classes[\"Mirai-greip_flood\"] = \"Mirai\"\n",
    "    eight_classes[\"Mirai-udpplain\"] = \"Mirai\"\n",
    "\n",
    "    eight_classes[\"Recon-PingSweep\"] = \"Recon\"\n",
    "    eight_classes[\"Recon-OSScan\"] = \"Recon\"\n",
    "    eight_classes[\"Recon-PortScan\"] = \"Recon\"\n",
    "    eight_classes[\"VulnerabilityScan\"] = \"Recon\"\n",
    "    eight_classes[\"Recon-HostDiscovery\"] = \"Recon\"\n",
    "\n",
    "    eight_classes[\"DNS_Spoofing\"] = \"Spoofing\"\n",
    "    eight_classes[\"MITM-ArpSpoofing\"] = \"Spoofing\"\n",
    "\n",
    "    eight_classes[\"BrowserHijacking\"] = \"Web\"\n",
    "    eight_classes[\"Backdoor_Malware\"] = \"Web\"\n",
    "    eight_classes[\"XSS\"] = \"Web\"\n",
    "    eight_classes[\"Uploading_Attack\"] = \"Web\"\n",
    "    eight_classes[\"SqlInjection\"] = \"Web\"\n",
    "    eight_classes[\"CommandInjection\"] = \"Web\"\n",
    "\n",
    "    eight_classes[\"DictionaryBruteForce\"] = \"BruteForce\"\n",
    "\n",
    "    training_data = training_data.with_columns(\n",
    "        pl.col(y_column).replace(eight_classes, default=-1)\n",
    "    )\n",
    "    test_data = test_data.with_columns(\n",
    "        pl.col(y_column).replace(eight_classes, default=-1)\n",
    "    )"
   ]
  },
  {
   "cell_type": "markdown",
   "metadata": {},
   "source": [
    "### 2 Classes"
   ]
  },
  {
   "cell_type": "code",
   "execution_count": null,
   "metadata": {},
   "outputs": [],
   "source": [
    "if NO_CLASSES == 2:\n",
    "    two_classes = {}\n",
    "\n",
    "    two_classes[\"BenignTraffic\"] = \"Benign\"\n",
    "\n",
    "    two_classes[\"DDoS-RSTFINFlood\"] = \"Attack\"\n",
    "    two_classes[\"DDoS-PSHACK_Flood\"] = \"Attack\"\n",
    "    two_classes[\"DDoS-SYN_Flood\"] = \"Attack\"\n",
    "    two_classes[\"DDoS-UDP_Flood\"] = \"Attack\"\n",
    "    two_classes[\"DDoS-TCP_Flood\"] = \"Attack\"\n",
    "    two_classes[\"DDoS-ICMP_Flood\"] = \"Attack\"\n",
    "    two_classes[\"DDoS-SynonymousIP_Flood\"] = \"Attack\"\n",
    "    two_classes[\"DDoS-ACK_Fragmentation\"] = \"Attack\"\n",
    "    two_classes[\"DDoS-UDP_Fragmentation\"] = \"Attack\"\n",
    "    two_classes[\"DDoS-ICMP_Fragmentation\"] = \"Attack\"\n",
    "    two_classes[\"DDoS-SlowLoris\"] = \"Attack\"\n",
    "    two_classes[\"DDoS-HTTP_Flood\"] = \"Attack\"\n",
    "\n",
    "    two_classes[\"DoS-UDP_Flood\"] = \"Attack\"\n",
    "    two_classes[\"DoS-SYN_Flood\"] = \"Attack\"\n",
    "    two_classes[\"DoS-TCP_Flood\"] = \"Attack\"\n",
    "    two_classes[\"DoS-HTTP_Flood\"] = \"Attack\"\n",
    "\n",
    "    two_classes[\"Mirai-greeth_flood\"] = \"Attack\"\n",
    "    two_classes[\"Mirai-greip_flood\"] = \"Attack\"\n",
    "    two_classes[\"Mirai-udpplain\"] = \"Attack\"\n",
    "\n",
    "    two_classes[\"Recon-PingSweep\"] = \"Attack\"\n",
    "    two_classes[\"Recon-OSScan\"] = \"Attack\"\n",
    "    two_classes[\"Recon-PortScan\"] = \"Attack\"\n",
    "    two_classes[\"VulnerabilityScan\"] = \"Attack\"\n",
    "    two_classes[\"Recon-HostDiscovery\"] = \"Attack\"\n",
    "\n",
    "    two_classes[\"DNS_Spoofing\"] = \"Attack\"\n",
    "    two_classes[\"MITM-ArpSpoofing\"] = \"Attack\"\n",
    "\n",
    "    two_classes[\"BrowserHijacking\"] = \"Attack\"\n",
    "    two_classes[\"Backdoor_Malware\"] = \"Attack\"\n",
    "    two_classes[\"XSS\"] = \"Attack\"\n",
    "    two_classes[\"Uploading_Attack\"] = \"Attack\"\n",
    "    two_classes[\"SqlInjection\"] = \"Attack\"\n",
    "    two_classes[\"CommandInjection\"] = \"Attack\"\n",
    "\n",
    "    two_classes[\"DictionaryBruteForce\"] = \"Attack\"\n",
    "\n",
    "    training_data = training_data.with_columns(\n",
    "        pl.col(y_column).replace(two_classes, default=-1)\n",
    "    )\n",
    "    test_data = test_data.with_columns(\n",
    "        pl.col(y_column).replace(two_classes, default=-1)\n",
    "    )"
   ]
  },
  {
   "cell_type": "markdown",
   "metadata": {},
   "source": [
    "## Classes"
   ]
  },
  {
   "cell_type": "markdown",
   "metadata": {},
   "source": [
    "### Separando as colunas"
   ]
  },
  {
   "cell_type": "code",
   "execution_count": null,
   "metadata": {},
   "outputs": [],
   "source": [
    "X_train = training_data.select(X_columns)\n",
    "y_train = training_data.select(y_column)\n",
    "X_test = test_data.select(X_columns)\n",
    "y_test = test_data.select(y_column).to_numpy()"
   ]
  },
  {
   "cell_type": "markdown",
   "metadata": {},
   "source": [
    "### Desvio Padrão"
   ]
  },
  {
   "cell_type": "code",
   "execution_count": null,
   "metadata": {},
   "outputs": [],
   "source": [
    "std_devs = X_train.std()\n",
    "cols_to_keep = [col for col in X_train.columns if std_devs[col][0] > 0.0]\n",
    "X_train_filtered = X_train.select(cols_to_keep)\n",
    "X_test_filtered = X_test.select(cols_to_keep)"
   ]
  },
  {
   "cell_type": "markdown",
   "metadata": {},
   "source": [
    "### Correlação"
   ]
  },
  {
   "cell_type": "code",
   "execution_count": null,
   "metadata": {},
   "outputs": [],
   "source": [
    "sns.set_theme(rc={\"figure.figsize\": (75, 25)})\n",
    "\n",
    "corr = X_train_filtered.corr()\n",
    "sns.heatmap(\n",
    "    data=corr,\n",
    "    cbar=False,\n",
    "    cmap=\"coolwarm\",\n",
    "    fmt=\".3f\",\n",
    "    mask=np.triu(corr),\n",
    "    annot=True,\n",
    "    xticklabels=corr.columns,\n",
    "    yticklabels=corr.columns,\n",
    ")"
   ]
  },
  {
   "cell_type": "code",
   "execution_count": null,
   "metadata": {},
   "outputs": [],
   "source": [
    "if FEATURE_SELECTION:\n",
    "    correlated_columns = correlation(X_train_filtered, 0.9)\n",
    "\n",
    "    X_train = X_train_filtered.drop(correlated_columns)\n",
    "    X_test = X_test_filtered.drop(correlated_columns)"
   ]
  },
  {
   "cell_type": "markdown",
   "metadata": {},
   "source": [
    "### Balanceando o dataset"
   ]
  },
  {
   "cell_type": "markdown",
   "metadata": {},
   "source": [
    "#### Distribuição antes do balanceamento"
   ]
  },
  {
   "cell_type": "code",
   "execution_count": null,
   "metadata": {},
   "outputs": [],
   "source": [
    "y_train.group_by(\"label\").len()"
   ]
  },
  {
   "cell_type": "code",
   "execution_count": null,
   "metadata": {},
   "outputs": [],
   "source": [
    "sns.barplot(\n",
    "    data=y_train.group_by(\"label\").len(),\n",
    "    x=\"label\",\n",
    "    y=\"len\",\n",
    "    hue=\"label\",\n",
    ")"
   ]
  },
  {
   "cell_type": "markdown",
   "metadata": {},
   "source": [
    "#### SMOTE"
   ]
  },
  {
   "cell_type": "code",
   "execution_count": null,
   "metadata": {},
   "outputs": [],
   "source": [
    "sm = SMOTE(random_state=42)\n",
    "\n",
    "pd_X_resampled, pd_y_resampled = sm.fit_resample(\n",
    "    X_train.to_pandas(), y_train.to_pandas()\n",
    ")\n",
    "X_resampled, y_resampled = pl.from_pandas(pd_X_resampled), pl.from_pandas(\n",
    "    pd_y_resampled\n",
    ")"
   ]
  },
  {
   "cell_type": "markdown",
   "metadata": {},
   "source": [
    "#### Distribuição após o balanceamento"
   ]
  },
  {
   "cell_type": "code",
   "execution_count": null,
   "metadata": {},
   "outputs": [],
   "source": [
    "y_resampled.group_by(\"label\").len()"
   ]
  },
  {
   "cell_type": "code",
   "execution_count": null,
   "metadata": {},
   "outputs": [],
   "source": [
    "sns.barplot(\n",
    "    data=y_resampled.group_by(\"label\").len(),\n",
    "    x=\"label\",\n",
    "    y=\"len\",\n",
    "    hue=\"label\",\n",
    ")"
   ]
  },
  {
   "cell_type": "markdown",
   "metadata": {},
   "source": [
    "### Normalizando o dataset"
   ]
  },
  {
   "cell_type": "code",
   "execution_count": null,
   "metadata": {},
   "outputs": [],
   "source": [
    "scaler = StandardScaler()\n",
    "X_train_scaled = scaler.fit_transform(X_resampled)\n",
    "X_test_scaled = scaler.transform(X_test)"
   ]
  },
  {
   "cell_type": "markdown",
   "metadata": {},
   "source": [
    "# Testando os algoritmos"
   ]
  },
  {
   "cell_type": "markdown",
   "metadata": {},
   "source": [
    "Aqui serão executados os algoritmos de classificação Logistic Regression, Perceptron, Adaboost e Random Forest, presentes no trabalho de Neto, E. C. P. *et al.*"
   ]
  },
  {
   "cell_type": "code",
   "execution_count": null,
   "metadata": {},
   "outputs": [],
   "source": [
    "data = ModelDataset(\n",
    "    x_train=X_train_scaled,\n",
    "    y_train=y_resampled.to_numpy(),\n",
    "    x_test=X_test_scaled,\n",
    "    y_test=y_test,\n",
    ")"
   ]
  },
  {
   "cell_type": "markdown",
   "metadata": {},
   "source": [
    "### Logistic Regression"
   ]
  },
  {
   "cell_type": "code",
   "execution_count": null,
   "metadata": {},
   "outputs": [],
   "source": [
    "logistic_regression_results = evaluate_model(\n",
    "    model=LogisticRegression(n_jobs=-1, max_iter=10000), data=data\n",
    ")\n",
    "save_results(logistic_regression_results)"
   ]
  },
  {
   "cell_type": "markdown",
   "metadata": {},
   "source": [
    "### Perceptron"
   ]
  },
  {
   "cell_type": "code",
   "execution_count": null,
   "metadata": {},
   "outputs": [],
   "source": [
    "perceptron_results = evaluate_model(model=Perceptron(), data=data)\n",
    "save_results(perceptron_results)"
   ]
  },
  {
   "cell_type": "markdown",
   "metadata": {},
   "source": [
    "### AdaBoost"
   ]
  },
  {
   "cell_type": "code",
   "execution_count": null,
   "metadata": {},
   "outputs": [],
   "source": [
    "adaboost_results = evaluate_model(model=AdaBoostClassifier(), data=data)\n",
    "save_results(adaboost_results)"
   ]
  },
  {
   "cell_type": "markdown",
   "metadata": {},
   "source": [
    "### DNN"
   ]
  },
  {
   "cell_type": "code",
   "execution_count": null,
   "metadata": {},
   "outputs": [],
   "source": [
    "dnn_results = evaluate_model(\n",
    "    model=MLPClassifier(\n",
    "        hidden_layer_sizes=(100,),\n",
    "        activation=\"relu\",\n",
    "        solver=\"adam\",\n",
    "        random_state=42,\n",
    "    ),\n",
    "    data=data,\n",
    ")\n",
    "save_results(dnn_results)"
   ]
  },
  {
   "cell_type": "markdown",
   "metadata": {},
   "source": [
    "### Random Forest"
   ]
  },
  {
   "cell_type": "code",
   "execution_count": null,
   "metadata": {},
   "outputs": [],
   "source": [
    "random_forest_results = evaluate_model(\n",
    "    model=RandomForestClassifier(), data=data\n",
    ")\n",
    "save_results(random_forest_results)"
   ]
  },
  {
   "cell_type": "markdown",
   "metadata": {},
   "source": [
    "# Análise dos Resultados"
   ]
  },
  {
   "cell_type": "code",
   "execution_count": null,
   "metadata": {},
   "outputs": [],
   "source": [
    "df = pd.read_csv(RESULTS_FILE)\n",
    "df.drop_duplicates(inplace=True)\n",
    "df[\"model\"] = df[\"model\"].replace(\n",
    "    {\n",
    "        \"LogisticRegression\": \"Regressão Logística\",\n",
    "        \"Perceptron\": \"Perceptron\",\n",
    "        \"AdaBoostClassifier\": \"AdaBoost\",\n",
    "        \"MLPClassifier\": \"DNN\",\n",
    "        \"RandomForestClassifier\": \"Random Forest\",\n",
    "    }\n",
    ")\n",
    "df[\"duration_training\"] = df[\"duration_training\"] / 60\n",
    "df = df.rename(\n",
    "    columns={\n",
    "        \"accuracy_score\": \"Acurácia\",\n",
    "        \"precision_score\": \"Precisão\",\n",
    "        \"recall_score\": \"Recall\",\n",
    "        \"f1_score\": \"F1\",\n",
    "        \"duration_training\": \"Tempo de Treinamento\",\n",
    "    }\n",
    ")\n",
    "df.set_index(\"model\", inplace=True)\n",
    "\n",
    "features_groupby = df.groupby(\"num_features\")\n",
    "metrics = [\"Acurácia\", \"Precisão\", \"Recall\", \"F1\"]"
   ]
  },
  {
   "cell_type": "code",
   "execution_count": null,
   "metadata": {},
   "outputs": [],
   "source": [
    "fig, axes = plt.subplots(\n",
    "    len(metrics),\n",
    "    len(features_groupby),\n",
    "    figsize=(len(features_groupby) * 5, len(metrics) * 4),\n",
    ")\n",
    "\n",
    "for i, metric in enumerate(metrics):\n",
    "    for j, (num_classes, df_feature) in enumerate(features_groupby):\n",
    "        df_false = df_feature[~df_feature[\"feature_selection\"]]\n",
    "        df_true = df_feature[df_feature[\"feature_selection\"]]\n",
    "        \n",
    "        ax = axes[i, j]\n",
    "    \n",
    "        sns.barplot(\n",
    "            data=df_false,\n",
    "            x=\"model\",\n",
    "            y=df_false[metric],\n",
    "            hue=\"model\",\n",
    "            ax=ax,\n",
    "            alpha=0.8,\n",
    "        )\n",
    "        new_ax = ax.twiny()\n",
    "        sns.lineplot(\n",
    "            data=df_true,\n",
    "            x=\"model\",\n",
    "            y=df_true[metric],\n",
    "            marker=\"o\",\n",
    "            markeredgewidth=0.5,\n",
    "            color=\"slategray\",\n",
    "            ax=new_ax,\n",
    "        )\n",
    "        ax.grid(False)\n",
    "        new_ax.grid(False)\n",
    "\n",
    "        ax.set_xlabel(\"\")\n",
    "        ax.tick_params(axis=\"both\", which=\"major\", labelsize=7)\n",
    "        ax.tick_params(axis=\"both\", which=\"minor\", labelsize=5)\n",
    "\n",
    "        new_ax.get_xaxis().set_visible(False)\n",
    "\n",
    "        if i == 0:\n",
    "            ax.set_title(f\"{num_classes} Classes\")\n",
    "\n",
    "        if j == 0:\n",
    "            ax.set_ylabel(metric, size=\"large\")\n",
    "        else:\n",
    "            ax.set_ylabel(\"\")\n",
    "\n",
    "plt.suptitle(\"Comparação das métricas dos modelos\")\n",
    "plt.tight_layout(pad=1.5)\n",
    "plt.show()"
   ]
  },
  {
   "cell_type": "code",
   "execution_count": null,
   "metadata": {},
   "outputs": [],
   "source": [
    "fig, axes = plt.subplots(\n",
    "    1,\n",
    "    len(features_groupby),\n",
    "    figsize=(len(features_groupby) * 5, 4),\n",
    ")\n",
    "\n",
    "for i, (num_classes, df_feature) in enumerate(features_groupby):\n",
    "    df_false = df_feature[~df_feature[\"feature_selection\"]]\n",
    "    df_true = df_feature[df_feature[\"feature_selection\"]]\n",
    "    ax = axes[i]\n",
    "    sns.barplot(\n",
    "        data=df_false,\n",
    "        x=\"model\",\n",
    "        y=df_false[\"Tempo de Treinamento\"],\n",
    "        hue=\"model\",\n",
    "        ax=ax,\n",
    "        alpha=0.8,\n",
    "        errorbar=None,\n",
    "    )\n",
    "    new_ax = ax.twiny()\n",
    "    sns.lineplot(\n",
    "        data=df_true,\n",
    "        x=\"model\",\n",
    "        y=df_true[\"Tempo de Treinamento\"],\n",
    "        marker=\"o\",\n",
    "        markeredgewidth=0.5,\n",
    "        color=\"slategray\",\n",
    "        ax=new_ax,\n",
    "        errorbar=None,\n",
    "    )\n",
    "    ax.grid(False)\n",
    "    new_ax.grid(False)\n",
    "\n",
    "    ax.set_xlabel(\"\")\n",
    "    ax.tick_params(axis=\"both\", which=\"major\", labelsize=8)\n",
    "    ax.tick_params(axis=\"both\", which=\"minor\", labelsize=6)\n",
    "\n",
    "    new_ax.get_xaxis().set_visible(False)\n",
    "\n",
    "    ax.set_title(f\"{num_classes} Classes\")\n",
    "\n",
    "    if i == 0:\n",
    "        ax.set_ylabel(\"Tempo de Treinamento (min)\", size=\"large\")\n",
    "    else:\n",
    "        ax.set_ylabel(\"\")\n",
    "\n",
    "plt.suptitle(\"Comparação do tempo de treinamento dos modelos\")\n",
    "plt.tight_layout(pad=1.5)\n",
    "plt.show()"
   ]
  }
 ],
 "metadata": {
  "kernelspec": {
   "display_name": "Python 3",
   "language": "python",
   "name": "python3"
  },
  "language_info": {
   "codemirror_mode": {
    "name": "ipython",
    "version": 3
   },
   "file_extension": ".py",
   "mimetype": "text/x-python",
   "name": "python",
   "nbconvert_exporter": "python",
   "pygments_lexer": "ipython3",
   "version": "3.12.3"
  }
 },
 "nbformat": 4,
 "nbformat_minor": 2
}
