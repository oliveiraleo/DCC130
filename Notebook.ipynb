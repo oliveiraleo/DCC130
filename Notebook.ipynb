{
 "cells": [
  {
   "cell_type": "markdown",
   "metadata": {},
   "source": [
    "# Desempenho de algoritmos de classificação na detecção de intrusão em redes de dispositivos IoT"
   ]
  },
  {
   "cell_type": "markdown",
   "metadata": {},
   "source": [
    "## Importações"
   ]
  },
  {
   "cell_type": "code",
   "execution_count": 1,
   "metadata": {},
   "outputs": [],
   "source": [
    "import glob\n",
    "import os\n",
    "import time\n",
    "from dataclasses import dataclass\n",
    "\n",
    "import matplotlib.pyplot as plt\n",
    "import numpy as np\n",
    "import polars as pl\n",
    "from imblearn.over_sampling import RandomOverSampler\n",
    "from imblearn.under_sampling import RandomUnderSampler\n",
    "from sklearn.ensemble import RandomForestClassifier, AdaBoostClassifier\n",
    "from sklearn.linear_model import LogisticRegression, Perceptron\n",
    "from sklearn.metrics import (\n",
    "    ConfusionMatrixDisplay,\n",
    "    accuracy_score,\n",
    "    classification_report,\n",
    "    confusion_matrix,\n",
    "    f1_score,\n",
    "    precision_score,\n",
    "    recall_score,\n",
    ")\n",
    "from sklearn.model_selection import train_test_split\n",
    "from sklearn.preprocessing import StandardScaler"
   ]
  },
  {
   "cell_type": "markdown",
   "metadata": {},
   "source": [
    "## Variáveis globais"
   ]
  },
  {
   "cell_type": "code",
   "execution_count": 2,
   "metadata": {},
   "outputs": [],
   "source": [
    "DATASET_DIRECTORY = \"./CICIoT2023/\"\n",
    "GENERATE_DATASETS = False\n",
    "EIGHT_CLASSES = True"
   ]
  },
  {
   "cell_type": "markdown",
   "metadata": {},
   "source": [
    "## DTOs"
   ]
  },
  {
   "cell_type": "code",
   "execution_count": 3,
   "metadata": {},
   "outputs": [],
   "source": [
    "@dataclass\n",
    "class ModelDataset:\n",
    "    x_train: np.ndarray\n",
    "    y_train: np.ndarray\n",
    "    x_test: pl.DataFrame\n",
    "    y_test: np.ndarray"
   ]
  },
  {
   "cell_type": "markdown",
   "metadata": {},
   "source": [
    "## Funções auxiliares"
   ]
  },
  {
   "cell_type": "code",
   "execution_count": 4,
   "metadata": {},
   "outputs": [],
   "source": [
    "def sample_rows(\n",
    "    group_by: pl.dataframe.group_by.GroupBy, percentage: float\n",
    ") -> pl.DataFrame:\n",
    "    dfs = []\n",
    "    for _, df in group_by:\n",
    "        if len(df) * percentage <= 1:\n",
    "            dfs.append(df.sample(n=1))\n",
    "            continue\n",
    "        dfs.append(df.sample(fraction=percentage, seed=42))\n",
    "\n",
    "    return pl.concat(dfs)\n",
    "\n",
    "\n",
    "def generate_dataframe(file_list: list, percentage: float) -> pl.DataFrame:\n",
    "    dfs = []\n",
    "    for file in file_list:\n",
    "        df = pl.read_csv(file)\n",
    "        dfs.append(\n",
    "            sample_rows(\n",
    "                group_by=df.group_by([\"label\"], maintain_order=True),\n",
    "                percentage=percentage,\n",
    "            )\n",
    "        )\n",
    "    return pl.concat(dfs)"
   ]
  },
  {
   "cell_type": "markdown",
   "metadata": {},
   "source": [
    "# Criando um dataset menor"
   ]
  },
  {
   "cell_type": "code",
   "execution_count": 5,
   "metadata": {},
   "outputs": [],
   "source": [
    "file_dir = \"./data/\"\n",
    "if not os.path.exists(file_dir):\n",
    "    os.makedirs(file_dir)\n",
    "\n",
    "df_sets = sorted(glob.glob(os.path.join(DATASET_DIRECTORY, \"*.csv\")))"
   ]
  },
  {
   "cell_type": "code",
   "execution_count": 6,
   "metadata": {},
   "outputs": [],
   "source": [
    "if GENERATE_DATASETS:\n",
    "    generate_dataframe(file_list=df_sets, percentage=0.005).write_csv(\n",
    "        file=\"./data/dataset_dev.csv\"\n",
    "    )"
   ]
  },
  {
   "cell_type": "code",
   "execution_count": 7,
   "metadata": {},
   "outputs": [],
   "source": [
    "if GENERATE_DATASETS:\n",
    "    generate_dataframe(file_list=df_sets, percentage=0.01).write_csv(\n",
    "        file=\"./data/dataset_one_percent.csv\"\n",
    "    )"
   ]
  },
  {
   "cell_type": "markdown",
   "metadata": {},
   "source": [
    "# IDS"
   ]
  },
  {
   "cell_type": "markdown",
   "metadata": {},
   "source": [
    "## Dataset"
   ]
  },
  {
   "cell_type": "code",
   "execution_count": 8,
   "metadata": {},
   "outputs": [],
   "source": [
    "df = pl.read_csv(\"./data/dataset_dev.csv\")\n",
    "training_data, test_data = train_test_split(df, test_size=0.2, random_state=42)"
   ]
  },
  {
   "cell_type": "markdown",
   "metadata": {},
   "source": [
    "### Separando Features e Label"
   ]
  },
  {
   "cell_type": "code",
   "execution_count": 9,
   "metadata": {},
   "outputs": [],
   "source": [
    "X_columns = df.columns[:-1]\n",
    "y_column = \"label\""
   ]
  },
  {
   "cell_type": "code",
   "execution_count": 10,
   "metadata": {},
   "outputs": [],
   "source": [
    "del df"
   ]
  },
  {
   "cell_type": "markdown",
   "metadata": {},
   "source": [
    "### 8 Classes"
   ]
  },
  {
   "cell_type": "code",
   "execution_count": 11,
   "metadata": {},
   "outputs": [],
   "source": [
    "if EIGHT_CLASSES:\n",
    "    eight_classes = {}\n",
    "\n",
    "    eight_classes[\"BenignTraffic\"] = \"Benign\"\n",
    "\n",
    "    eight_classes[\"DDoS-RSTFINFlood\"] = \"DDoS\"\n",
    "    eight_classes[\"DDoS-PSHACK_Flood\"] = \"DDoS\"\n",
    "    eight_classes[\"DDoS-SYN_Flood\"] = \"DDoS\"\n",
    "    eight_classes[\"DDoS-UDP_Flood\"] = \"DDoS\"\n",
    "    eight_classes[\"DDoS-TCP_Flood\"] = \"DDoS\"\n",
    "    eight_classes[\"DDoS-ICMP_Flood\"] = \"DDoS\"\n",
    "    eight_classes[\"DDoS-SynonymousIP_Flood\"] = \"DDoS\"\n",
    "    eight_classes[\"DDoS-ACK_Fragmentation\"] = \"DDoS\"\n",
    "    eight_classes[\"DDoS-UDP_Fragmentation\"] = \"DDoS\"\n",
    "    eight_classes[\"DDoS-ICMP_Fragmentation\"] = \"DDoS\"\n",
    "    eight_classes[\"DDoS-SlowLoris\"] = \"DDoS\"\n",
    "    eight_classes[\"DDoS-HTTP_Flood\"] = \"DDoS\"\n",
    "\n",
    "    eight_classes[\"DoS-UDP_Flood\"] = \"DoS\"\n",
    "    eight_classes[\"DoS-SYN_Flood\"] = \"DoS\"\n",
    "    eight_classes[\"DoS-TCP_Flood\"] = \"DoS\"\n",
    "    eight_classes[\"DoS-HTTP_Flood\"] = \"DoS\"\n",
    "\n",
    "    eight_classes[\"Mirai-greeth_flood\"] = \"Mirai\"\n",
    "    eight_classes[\"Mirai-greip_flood\"] = \"Mirai\"\n",
    "    eight_classes[\"Mirai-udpplain\"] = \"Mirai\"\n",
    "\n",
    "    eight_classes[\"Recon-PingSweep\"] = \"Recon\"\n",
    "    eight_classes[\"Recon-OSScan\"] = \"Recon\"\n",
    "    eight_classes[\"Recon-PortScan\"] = \"Recon\"\n",
    "    eight_classes[\"VulnerabilityScan\"] = \"Recon\"\n",
    "    eight_classes[\"Recon-HostDiscovery\"] = \"Recon\"\n",
    "\n",
    "    eight_classes[\"DNS_Spoofing\"] = \"Spoofing\"\n",
    "    eight_classes[\"MITM-ArpSpoofing\"] = \"Spoofing\"\n",
    "\n",
    "    eight_classes[\"BrowserHijacking\"] = \"Web\"\n",
    "    eight_classes[\"Backdoor_Malware\"] = \"Web\"\n",
    "    eight_classes[\"XSS\"] = \"Web\"\n",
    "    eight_classes[\"Uploading_Attack\"] = \"Web\"\n",
    "    eight_classes[\"SqlInjection\"] = \"Web\"\n",
    "    eight_classes[\"CommandInjection\"] = \"Web\"\n",
    "\n",
    "    eight_classes[\"DictionaryBruteForce\"] = \"BruteForce\"\n",
    "\n",
    "    training_data = training_data.with_columns(\n",
    "        pl.col(y_column).replace(eight_classes, default=-1)\n",
    "    )\n",
    "    test_data = test_data.with_columns(\n",
    "        pl.col(y_column).replace(eight_classes, default=-1)\n",
    "    )"
   ]
  },
  {
   "cell_type": "markdown",
   "metadata": {},
   "source": [
    "## Classes"
   ]
  },
  {
   "cell_type": "markdown",
   "metadata": {},
   "source": [
    "### Separando as colunas"
   ]
  },
  {
   "cell_type": "code",
   "execution_count": 12,
   "metadata": {},
   "outputs": [],
   "source": [
    "X_train = training_data.select(X_columns)\n",
    "y_train = training_data.select(y_column)\n",
    "X_test = test_data.select(X_columns)\n",
    "y_test = test_data.select(y_column).to_numpy()"
   ]
  },
  {
   "cell_type": "markdown",
   "metadata": {},
   "source": [
    "### Balanceando o dataset"
   ]
  },
  {
   "cell_type": "code",
   "execution_count": 13,
   "metadata": {},
   "outputs": [
    {
     "data": {
      "text/html": [
       "<div><style>\n",
       ".dataframe > thead > tr,\n",
       ".dataframe > tbody > tr {\n",
       "  text-align: right;\n",
       "  white-space: pre-wrap;\n",
       "}\n",
       "</style>\n",
       "<small>shape: (8, 2)</small><table border=\"1\" class=\"dataframe\"><thead><tr><th>label</th><th>len</th></tr><tr><td>str</td><td>u32</td></tr></thead><tbody><tr><td>&quot;Benign&quot;</td><td>4379</td></tr><tr><td>&quot;Mirai&quot;</td><td>10310</td></tr><tr><td>&quot;Web&quot;</td><td>809</td></tr><tr><td>&quot;DDoS&quot;</td><td>135193</td></tr><tr><td>&quot;BruteForce&quot;</td><td>127</td></tr><tr><td>&quot;Recon&quot;</td><td>1362</td></tr><tr><td>&quot;DoS&quot;</td><td>32159</td></tr><tr><td>&quot;Spoofing&quot;</td><td>1814</td></tr></tbody></table></div>"
      ],
      "text/plain": [
       "shape: (8, 2)\n",
       "┌────────────┬────────┐\n",
       "│ label      ┆ len    │\n",
       "│ ---        ┆ ---    │\n",
       "│ str        ┆ u32    │\n",
       "╞════════════╪════════╡\n",
       "│ Benign     ┆ 4379   │\n",
       "│ Mirai      ┆ 10310  │\n",
       "│ Web        ┆ 809    │\n",
       "│ DDoS       ┆ 135193 │\n",
       "│ BruteForce ┆ 127    │\n",
       "│ Recon      ┆ 1362   │\n",
       "│ DoS        ┆ 32159  │\n",
       "│ Spoofing   ┆ 1814   │\n",
       "└────────────┴────────┘"
      ]
     },
     "execution_count": 13,
     "metadata": {},
     "output_type": "execute_result"
    }
   ],
   "source": [
    "training_data.group_by(\"label\").len()"
   ]
  },
  {
   "cell_type": "code",
   "execution_count": 14,
   "metadata": {},
   "outputs": [],
   "source": [
    "ros = RandomOverSampler(random_state=42)\n",
    "rus = RandomUnderSampler(random_state=42)\n",
    "\n",
    "pd_X_resampled, pd_y_resampled = ros.fit_resample(\n",
    "    X_train.to_pandas(), y_train.to_pandas()\n",
    ")\n",
    "X_resampled, y_resampled = pl.from_pandas(pd_X_resampled), pl.from_pandas(\n",
    "    pd_y_resampled\n",
    ")"
   ]
  },
  {
   "cell_type": "markdown",
   "metadata": {},
   "source": [
    "### Normalizando o dataset"
   ]
  },
  {
   "cell_type": "code",
   "execution_count": 15,
   "metadata": {},
   "outputs": [],
   "source": [
    "scaler = StandardScaler()\n",
    "X_train_scaled = scaler.fit_transform(X_resampled)\n",
    "X_test_scaled = scaler.transform(X_test)"
   ]
  },
  {
   "cell_type": "markdown",
   "metadata": {},
   "source": [
    "# Testando os algoritmos"
   ]
  },
  {
   "cell_type": "markdown",
   "metadata": {},
   "source": [
    "## Escopo original\n",
    "Aqui serão executados os algoritmos de classificação Logistic Regression, Perceptron, Adaboost e Random Forest, presentes no trabalho de Neto, E. C. P. *et al.*"
   ]
  },
  {
   "cell_type": "code",
   "execution_count": 16,
   "metadata": {},
   "outputs": [],
   "source": [
    "data = ModelDataset(\n",
    "    x_train=X_train_scaled,\n",
    "    y_train=y_resampled.to_numpy(),\n",
    "    x_test=X_test_scaled,\n",
    "    y_test=y_test,\n",
    ")"
   ]
  },
  {
   "cell_type": "markdown",
   "metadata": {},
   "source": [
    "### Logistic Regression"
   ]
  },
  {
   "cell_type": "code",
   "execution_count": 17,
   "metadata": {},
   "outputs": [
    {
     "name": "stderr",
     "output_type": "stream",
     "text": [
      "c:\\Users\\antonio\\AppData\\Local\\Programs\\Python\\Python312\\Lib\\site-packages\\sklearn\\utils\\validation.py:1300: DataConversionWarning: A column-vector y was passed when a 1d array was expected. Please change the shape of y to (n_samples, ), for example using ravel().\n",
      "  y = column_or_1d(y, warn=True)\n"
     ]
    },
    {
     "name": "stdout",
     "output_type": "stream",
     "text": [
      "              precision    recall  f1-score   support\n",
      "\n",
      "      Benign       0.83      0.69      0.75      1027\n",
      "  BruteForce       0.05      0.48      0.10        42\n",
      "        DDoS       0.97      0.61      0.75     33962\n",
      "         DoS       0.36      0.89      0.51      7935\n",
      "       Mirai       1.00      0.99      1.00      2604\n",
      "       Recon       0.22      0.38      0.27       319\n",
      "    Spoofing       0.57      0.57      0.57       445\n",
      "         Web       0.28      0.53      0.36       205\n",
      "\n",
      "    accuracy                           0.68     46539\n",
      "   macro avg       0.53      0.64      0.54     46539\n",
      "weighted avg       0.85      0.68      0.71     46539\n",
      "\n",
      "Accuracy: 0.6797739530286426, Precision: 0.5329021608217444, Recall: 0.6422790912421958, F1: 0.5386325485127118\n"
     ]
    }
   ],
   "source": [
    "logistic_regression = LogisticRegression(n_jobs=-1, max_iter=10000)\n",
    "logistic_regression.fit(data.x_train, data.y_train)\n",
    "y_pred = logistic_regression.predict(data.x_test)\n",
    "\n",
    "print(classification_report(data.y_test, y_pred, target_names=np.unique(y_pred)))\n",
    "\n",
    "accuracy = accuracy_score(data.y_test, y_pred)\n",
    "precision = precision_score(data.y_test, y_pred, average=\"macro\")\n",
    "recall = recall_score(data.y_test, y_pred, average=\"macro\")\n",
    "f1 = f1_score(data.y_test, y_pred, average=\"macro\")\n",
    "\n",
    "print(f\"Accuracy: {accuracy}, Precision: {precision}, Recall: {recall}, F1: {f1}\")"
   ]
  },
  {
   "cell_type": "markdown",
   "metadata": {},
   "source": [
    "### Perceptron"
   ]
  },
  {
   "cell_type": "code",
   "execution_count": 18,
   "metadata": {},
   "outputs": [
    {
     "name": "stderr",
     "output_type": "stream",
     "text": [
      "c:\\Users\\antonio\\AppData\\Local\\Programs\\Python\\Python312\\Lib\\site-packages\\sklearn\\utils\\validation.py:1300: DataConversionWarning: A column-vector y was passed when a 1d array was expected. Please change the shape of y to (n_samples, ), for example using ravel().\n",
      "  y = column_or_1d(y, warn=True)\n"
     ]
    },
    {
     "name": "stdout",
     "output_type": "stream",
     "text": [
      "              precision    recall  f1-score   support\n",
      "\n",
      "      Benign       0.82      0.34      0.48      1027\n",
      "  BruteForce       0.05      0.36      0.08        42\n",
      "        DDoS       0.93      0.62      0.74     33962\n",
      "         DoS       0.34      0.80      0.48      7935\n",
      "       Mirai       0.95      0.98      0.97      2604\n",
      "       Recon       0.17      0.38      0.23       319\n",
      "    Spoofing       0.38      0.53      0.44       445\n",
      "         Web       0.14      0.39      0.20       205\n",
      "\n",
      "    accuracy                           0.66     46539\n",
      "   macro avg       0.47      0.55      0.45     46539\n",
      "weighted avg       0.81      0.66      0.69     46539\n",
      "\n",
      "Accuracy: 0.6585229592384881, Precision: 0.4700889519102317, Recall: 0.5483566276220029, F1: 0.4517923833407661\n"
     ]
    }
   ],
   "source": [
    "perceptron = Perceptron()\n",
    "perceptron.fit(data.x_train, data.y_train)\n",
    "y_pred = perceptron.predict(data.x_test)\n",
    "\n",
    "print(classification_report(data.y_test, y_pred, target_names=np.unique(y_pred)))\n",
    "\n",
    "accuracy = accuracy_score(data.y_test, y_pred)\n",
    "precision = precision_score(data.y_test, y_pred, average=\"macro\")\n",
    "recall = recall_score(data.y_test, y_pred, average=\"macro\")\n",
    "f1 = f1_score(data.y_test, y_pred, average=\"macro\")\n",
    "\n",
    "print(f\"Accuracy: {accuracy}, Precision: {precision}, Recall: {recall}, F1: {f1}\")"
   ]
  },
  {
   "cell_type": "markdown",
   "metadata": {},
   "source": [
    "### AdaBoost"
   ]
  },
  {
   "cell_type": "code",
   "execution_count": 19,
   "metadata": {},
   "outputs": [
    {
     "name": "stderr",
     "output_type": "stream",
     "text": [
      "c:\\Users\\antonio\\AppData\\Local\\Programs\\Python\\Python312\\Lib\\site-packages\\sklearn\\utils\\validation.py:1300: DataConversionWarning: A column-vector y was passed when a 1d array was expected. Please change the shape of y to (n_samples, ), for example using ravel().\n",
      "  y = column_or_1d(y, warn=True)\n",
      "c:\\Users\\antonio\\AppData\\Local\\Programs\\Python\\Python312\\Lib\\site-packages\\sklearn\\ensemble\\_weight_boosting.py:519: FutureWarning: The SAMME.R algorithm (the default) is deprecated and will be removed in 1.6. Use the SAMME algorithm to circumvent this warning.\n",
      "  warnings.warn(\n"
     ]
    },
    {
     "name": "stdout",
     "output_type": "stream",
     "text": [
      "              precision    recall  f1-score   support\n",
      "\n",
      "      Benign       0.91      0.70      0.80      1027\n",
      "  BruteForce       1.00      0.43      0.60        42\n",
      "        DDoS       0.93      0.87      0.90     33962\n",
      "         DoS       0.57      0.69      0.62      7935\n",
      "       Mirai       0.99      1.00      1.00      2604\n",
      "       Recon       0.33      0.54      0.41       319\n",
      "    Spoofing       0.38      0.24      0.29       445\n",
      "         Web       0.24      0.89      0.38       205\n",
      "\n",
      "    accuracy                           0.83     46539\n",
      "   macro avg       0.67      0.67      0.62     46539\n",
      "weighted avg       0.86      0.83      0.84     46539\n",
      "\n",
      "Accuracy: 0.834633318292185, Precision: 0.6686454409898148, Recall: 0.6694657334516874, F1: 0.6236227412042501\n"
     ]
    }
   ],
   "source": [
    "ada_boost = AdaBoostClassifier()\n",
    "ada_boost.fit(data.x_train, data.y_train)\n",
    "y_pred = ada_boost.predict(data.x_test)\n",
    "\n",
    "print(classification_report(data.y_test, y_pred, target_names=np.unique(y_pred)))\n",
    "\n",
    "accuracy = accuracy_score(data.y_test, y_pred)\n",
    "precision = precision_score(data.y_test, y_pred, average=\"macro\")\n",
    "recall = recall_score(data.y_test, y_pred, average=\"macro\")\n",
    "f1 = f1_score(data.y_test, y_pred, average=\"macro\")\n",
    "\n",
    "print(f\"Accuracy: {accuracy}, Precision: {precision}, Recall: {recall}, F1: {f1}\")"
   ]
  },
  {
   "cell_type": "markdown",
   "metadata": {},
   "source": [
    "### Random Forest"
   ]
  },
  {
   "cell_type": "code",
   "execution_count": 20,
   "metadata": {},
   "outputs": [
    {
     "name": "stderr",
     "output_type": "stream",
     "text": [
      "c:\\Users\\antonio\\AppData\\Local\\Programs\\Python\\Python312\\Lib\\site-packages\\sklearn\\base.py:1474: DataConversionWarning: A column-vector y was passed when a 1d array was expected. Please change the shape of y to (n_samples,), for example using ravel().\n",
      "  return fit_method(estimator, *args, **kwargs)\n"
     ]
    },
    {
     "name": "stdout",
     "output_type": "stream",
     "text": [
      "              precision    recall  f1-score   support\n",
      "\n",
      "      Benign       0.82      0.97      0.89      1027\n",
      "  BruteForce       0.91      0.24      0.38        42\n",
      "        DDoS       1.00      1.00      1.00     33962\n",
      "         DoS       1.00      1.00      1.00      7935\n",
      "       Mirai       1.00      1.00      1.00      2604\n",
      "       Recon       0.80      0.68      0.74       319\n",
      "    Spoofing       0.87      0.75      0.81       445\n",
      "         Web       0.69      0.57      0.62       205\n",
      "\n",
      "    accuracy                           0.99     46539\n",
      "   macro avg       0.88      0.78      0.80     46539\n",
      "weighted avg       0.99      0.99      0.99     46539\n",
      "\n",
      "Accuracy: 0.9910827478029179, Precision: 0.8848609386238638, Recall: 0.7751117113417976, F1: 0.8028439075494131\n"
     ]
    }
   ],
   "source": [
    "random_forest = RandomForestClassifier()\n",
    "random_forest.fit(data.x_train, data.y_train)\n",
    "y_pred = random_forest.predict(data.x_test)\n",
    "\n",
    "print(classification_report(data.y_test, y_pred, target_names=np.unique(y_pred)))\n",
    "\n",
    "accuracy = accuracy_score(data.y_test, y_pred)\n",
    "precision = precision_score(data.y_test, y_pred, average=\"macro\")\n",
    "recall = recall_score(data.y_test, y_pred, average=\"macro\")\n",
    "f1 = f1_score(data.y_test, y_pred, average=\"macro\")\n",
    "\n",
    "print(f\"Accuracy: {accuracy}, Precision: {precision}, Recall: {recall}, F1: {f1}\")"
   ]
  }
 ],
 "metadata": {
  "kernelspec": {
   "display_name": "Python 3",
   "language": "python",
   "name": "python3"
  },
  "language_info": {
   "codemirror_mode": {
    "name": "ipython",
    "version": 3
   },
   "file_extension": ".py",
   "mimetype": "text/x-python",
   "name": "python",
   "nbconvert_exporter": "python",
   "pygments_lexer": "ipython3",
   "version": "3.12.2"
  }
 },
 "nbformat": 4,
 "nbformat_minor": 2
}
